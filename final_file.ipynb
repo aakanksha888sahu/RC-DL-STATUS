{
  "nbformat": 4,
  "nbformat_minor": 0,
  "metadata": {
    "colab": {
      "name": "final file.ipynb",
      "provenance": []
    },
    "kernelspec": {
      "name": "python3",
      "display_name": "Python 3"
    }
  },
  "cells": [
    {
      "cell_type": "markdown",
      "metadata": {
        "id": "WJ04dFUMFwJ1",
        "colab_type": "text"
      },
      "source": [
        "#CALLING LIBRARIES"
      ]
    },
    {
      "cell_type": "code",
      "metadata": {
        "id": "kEEoAcAegp4N",
        "colab_type": "code",
        "colab": {
          "base_uri": "https://localhost:8080/",
          "height": 391
        },
        "outputId": "c16b621d-e772-4c36-f92d-dd455b7ef097"
      },
      "source": [
        "!pip install pyPDF2\n",
        "!apt-get install poppler-utils\n",
        "!pip3 install pytesseract\n",
        "!pip3 install pdf2image\n",
        "!sudo apt-get install tesseract-ocr\n",
        "!pip install selenium"
      ],
      "execution_count": 155,
      "outputs": [
        {
          "output_type": "stream",
          "text": [
            "Requirement already satisfied: pyPDF2 in /usr/local/lib/python3.6/dist-packages (1.26.0)\n",
            "Reading package lists... Done\n",
            "Building dependency tree       \n",
            "Reading state information... Done\n",
            "poppler-utils is already the newest version (0.62.0-2ubuntu2.10).\n",
            "The following package was automatically installed and is no longer required:\n",
            "  libnvidia-common-440\n",
            "Use 'apt autoremove' to remove it.\n",
            "0 upgraded, 0 newly installed, 0 to remove and 43 not upgraded.\n",
            "Requirement already satisfied: pytesseract in /usr/local/lib/python3.6/dist-packages (0.3.4)\n",
            "Requirement already satisfied: Pillow in /usr/local/lib/python3.6/dist-packages (from pytesseract) (7.0.0)\n",
            "Requirement already satisfied: pdf2image in /usr/local/lib/python3.6/dist-packages (1.13.1)\n",
            "Requirement already satisfied: pillow in /usr/local/lib/python3.6/dist-packages (from pdf2image) (7.0.0)\n",
            "Reading package lists... Done\n",
            "Building dependency tree       \n",
            "Reading state information... Done\n",
            "tesseract-ocr is already the newest version (4.00~git2288-10f4998a-2).\n",
            "The following package was automatically installed and is no longer required:\n",
            "  libnvidia-common-440\n",
            "Use 'sudo apt autoremove' to remove it.\n",
            "0 upgraded, 0 newly installed, 0 to remove and 43 not upgraded.\n",
            "Requirement already satisfied: selenium in /usr/local/lib/python3.6/dist-packages (3.141.0)\n",
            "Requirement already satisfied: urllib3 in /usr/local/lib/python3.6/dist-packages (from selenium) (1.24.3)\n"
          ],
          "name": "stdout"
        }
      ]
    },
    {
      "cell_type": "code",
      "metadata": {
        "id": "TSaVAFc8f2pH",
        "colab_type": "code",
        "colab": {}
      },
      "source": [
        "from bs4 import BeautifulSoup\n",
        "import requests \n",
        "import re\n",
        "import datetime\n",
        "import os\n",
        "import urllib"
      ],
      "execution_count": 156,
      "outputs": []
    },
    {
      "cell_type": "markdown",
      "metadata": {
        "id": "WdNVbDIfF8mK",
        "colab_type": "text"
      },
      "source": [
        "# PARSING TO GET ELEMENTS"
      ]
    },
    {
      "cell_type": "code",
      "metadata": {
        "id": "i5fbAHEEf5gl",
        "colab_type": "code",
        "colab": {}
      },
      "source": [
        "url='https://parivahan.gov.in/rcdlstatus/?pur_cd=101'\n",
        "response=requests.get(url)\n",
        "soup=BeautifulSoup(response.text,'html.parser')"
      ],
      "execution_count": 201,
      "outputs": []
    },
    {
      "cell_type": "markdown",
      "metadata": {
        "id": "aWkfzbFXgMSX",
        "colab_type": "text"
      },
      "source": [
        "Extracting the Image"
      ]
    },
    {
      "cell_type": "code",
      "metadata": {
        "id": "-i94khnkgHCe",
        "colab_type": "code",
        "colab": {}
      },
      "source": [
        "imgs = soup.findAll(\"table\", {\"class\":\"vahan-captcha inline-section\"})\n",
        "x=imgs[0].findAll('img')[0]\n",
        "y=str(x)\n",
        "y='https://parivahan.gov.in'+y[48:-3]\n",
        "import shutil\n",
        "r = requests.get( y, stream=True )\n",
        "if r.status_code == 200:\n",
        "  r.raw.decode_content = True\n",
        "  f = open('/content/t.png', \"wb\" )\n",
        "  shutil.copyfileobj(r.raw, f)\n",
        "  f.close()"
      ],
      "execution_count": 204,
      "outputs": []
    },
    {
      "cell_type": "code",
      "metadata": {
        "id": "aGdgeMolg-wN",
        "colab_type": "code",
        "colab": {
          "base_uri": "https://localhost:8080/",
          "height": 33
        },
        "outputId": "12d7dd55-5bc8-4eec-b50c-a4a87ffc9036"
      },
      "source": [
        "import pytesseract\n",
        "from PIL import Image\n",
        "img = Image.open('/content/t.png').convert('LA')\n",
        "img.save('greyscale.png')\n",
        "print(pytesseract.image_to_string(Image.open('/content/greyscale.png')))"
      ],
      "execution_count": 205,
      "outputs": [
        {
          "output_type": "stream",
          "text": [
            "\n"
          ],
          "name": "stdout"
        }
      ]
    },
    {
      "cell_type": "markdown",
      "metadata": {
        "id": "kMrQwNE8h4uV",
        "colab_type": "text"
      },
      "source": [
        "Trying access"
      ]
    },
    {
      "cell_type": "code",
      "metadata": {
        "id": "87oDzxON_aYC",
        "colab_type": "code",
        "colab": {}
      },
      "source": [
        "def correctdob(inputDate):\n",
        "  day,month,year = inputDate.split('-')\n",
        "  isValidDate = True\n",
        "  try :\n",
        "    datetime.datetime(int(year),int(month),int(day))\n",
        "  except ValueError :\n",
        "    isValidDate = False\n",
        "  return isValidDate"
      ],
      "execution_count": 206,
      "outputs": []
    },
    {
      "cell_type": "code",
      "metadata": {
        "id": "QxGQKyml_bxU",
        "colab_type": "code",
        "colab": {}
      },
      "source": [
        "def correctdl(x):\n",
        "  fir,sec=x.split('-')\n",
        "  isvalid=False\n",
        "  if((len(fir)==2 and isinstance(fir, str)) and (len(sec)==13)):\n",
        "    isvalid=True\n",
        "  return isvalid "
      ],
      "execution_count": 161,
      "outputs": []
    },
    {
      "cell_type": "code",
      "metadata": {
        "id": "Y5fp4XQC_eOE",
        "colab_type": "code",
        "colab": {
          "base_uri": "https://localhost:8080/",
          "height": 118
        },
        "outputId": "4883ba58-bf64-4fdf-f785-8e127bc522a8"
      },
      "source": [
        "usr=input('Please enter the DL number in SS-RRYYYYNNNNNNN format\\nPlease Note:- YYYY - 4-digit Year of Issue (For Example: If year is mentioned in 2 digits, say 99, then it should be converted to 1999. Similarly use 2012 for 12).\\n')\n",
        "dob=input('Please enter the Date of birth in DD-MM-YYYY format\\n')\n",
        "try:\n",
        "  if(correctdl(usr)):\n",
        "    pass\n",
        "  else:\n",
        "    print(\"Wrong format of DL entered\")\n",
        "except:\n",
        "  pass\n",
        "if(correctdob(dob)):\n",
        "    pass\n",
        "else:\n",
        "  print(\"Wrong format of Date Of Birth entered\")"
      ],
      "execution_count": 162,
      "outputs": [
        {
          "output_type": "stream",
          "text": [
            "Please enter the DL number in SS-RRYYYYNNNNNNN format\n",
            "Please Note:- YYYY - 4-digit Year of Issue (For Example: If year is mentioned in 2 digits, say 99, then it should be converted to 1999. Similarly use 2012 for 12).\n",
            "OR-0120050037368\n",
            "Please enter the Date of birth in DD-MM-YYYY format\n",
            "11-01-1973\n"
          ],
          "name": "stdout"
        }
      ]
    },
    {
      "cell_type": "code",
      "metadata": {
        "id": "2E3bHVxlhK4N",
        "colab_type": "code",
        "colab": {}
      },
      "source": [
        "#usr='DL-0420110149646'\n",
        "#dob='09-02-1976'"
      ],
      "execution_count": 163,
      "outputs": []
    },
    {
      "cell_type": "code",
      "metadata": {
        "id": "GfJhu3-fjtsU",
        "colab_type": "code",
        "colab": {
          "base_uri": "https://localhost:8080/",
          "height": 395
        },
        "outputId": "fc8734f6-cf5b-4b77-ad94-6cdc589c1140"
      },
      "source": [
        "!pip install selenium\n",
        "!apt-get update \n",
        "!apt install chromium-chromedriver"
      ],
      "execution_count": 207,
      "outputs": [
        {
          "output_type": "stream",
          "text": [
            "Requirement already satisfied: selenium in /usr/local/lib/python3.6/dist-packages (3.141.0)\n",
            "Requirement already satisfied: urllib3 in /usr/local/lib/python3.6/dist-packages (from selenium) (1.24.3)\n",
            "Ign:1 https://developer.download.nvidia.com/compute/cuda/repos/ubuntu1804/x86_64  InRelease\n",
            "Hit:2 https://cloud.r-project.org/bin/linux/ubuntu bionic-cran35/ InRelease\n",
            "Ign:3 https://developer.download.nvidia.com/compute/machine-learning/repos/ubuntu1804/x86_64  InRelease\n",
            "Hit:4 http://security.ubuntu.com/ubuntu bionic-security InRelease\n",
            "Hit:5 https://developer.download.nvidia.com/compute/cuda/repos/ubuntu1804/x86_64  Release\n",
            "Hit:6 https://developer.download.nvidia.com/compute/machine-learning/repos/ubuntu1804/x86_64  Release\n",
            "Hit:7 http://ppa.launchpad.net/graphics-drivers/ppa/ubuntu bionic InRelease\n",
            "Hit:8 http://archive.ubuntu.com/ubuntu bionic InRelease\n",
            "Hit:9 http://archive.ubuntu.com/ubuntu bionic-updates InRelease\n",
            "Hit:10 http://ppa.launchpad.net/marutter/c2d4u3.5/ubuntu bionic InRelease\n",
            "Hit:11 http://archive.ubuntu.com/ubuntu bionic-backports InRelease\n",
            "Reading package lists... Done\n",
            "Reading package lists... Done\n",
            "Building dependency tree       \n",
            "Reading state information... Done\n",
            "chromium-chromedriver is already the newest version (83.0.4103.61-0ubuntu0.18.04.1).\n",
            "The following package was automatically installed and is no longer required:\n",
            "  libnvidia-common-440\n",
            "Use 'apt autoremove' to remove it.\n",
            "0 upgraded, 0 newly installed, 0 to remove and 43 not upgraded.\n"
          ],
          "name": "stdout"
        }
      ]
    },
    {
      "cell_type": "code",
      "metadata": {
        "id": "rLXnZggBh9U6",
        "colab_type": "code",
        "colab": {
          "base_uri": "https://localhost:8080/",
          "height": 118
        },
        "outputId": "4b8749ad-91f7-45a3-81ed-1df9dccb258c"
      },
      "source": [
        "from selenium import webdriver\n",
        "from time import sleep\n",
        "from selenium.webdriver.common.keys import Keys\n",
        "chrome_options = webdriver.ChromeOptions()\n",
        "chrome_options.add_argument('--headless')\n",
        "chrome_options.add_argument('--no-sandbox')\n",
        "chrome_options.add_argument('--disable-dev-shm-usage')\n",
        "wd = webdriver.Chrome('chromedriver',chrome_options=chrome_options)\n",
        "driver =webdriver.Chrome('chromedriver',chrome_options=chrome_options)\n",
        "driver.get(\"https://parivahan.gov.in/rcdlstatus/?pur_cd=101\")\n",
        "driver.get_screenshot_as_file(\"python-github1.png\")\n",
        "#print(driver.page_source)"
      ],
      "execution_count": 197,
      "outputs": [
        {
          "output_type": "stream",
          "text": [
            "/usr/local/lib/python3.6/dist-packages/ipykernel_launcher.py:8: DeprecationWarning: use options instead of chrome_options\n",
            "  \n",
            "/usr/local/lib/python3.6/dist-packages/ipykernel_launcher.py:9: DeprecationWarning: use options instead of chrome_options\n",
            "  if __name__ == '__main__':\n"
          ],
          "name": "stderr"
        },
        {
          "output_type": "execute_result",
          "data": {
            "text/plain": [
              "True"
            ]
          },
          "metadata": {
            "tags": []
          },
          "execution_count": 197
        }
      ]
    },
    {
      "cell_type": "code",
      "metadata": {
        "id": "FasD7zX3Ei8d",
        "colab_type": "code",
        "colab": {
          "base_uri": "https://localhost:8080/",
          "height": 33
        },
        "outputId": "68e76539-8141-460f-8dab-6be8f469176e"
      },
      "source": [
        "message=str(pytesseract.image_to_string(Image.open('/content/python-github1.png')))\n",
        "message_list=message.split('\\n')\n",
        "re=message_list[20]\n",
        "print(re)\n",
        "captch=re[-6:-1]"
      ],
      "execution_count": 198,
      "outputs": [
        {
          "output_type": "stream",
          "text": [
            "Enter Verification [idlees |\n"
          ],
          "name": "stdout"
        }
      ]
    },
    {
      "cell_type": "code",
      "metadata": {
        "id": "b9Z33fKKLAzG",
        "colab_type": "code",
        "colab": {}
      },
      "source": [
        "elem = driver.find_element_by_id('form_rcdl:tf_dlNO')\n",
        "elem.clear()\n",
        "elem.send_keys(usr)\n",
        "#elem.send_keys(Keys.RETURN)\n",
        "\n",
        "elem1 = driver.find_element_by_id('form_rcdl:tf_dob_input')\n",
        "elem1.clear()\n",
        "elem1.send_keys(dob)\n",
        "elem1.send_keys(Keys.ENTER)\n",
        "elem1.send_keys(Keys.RETURN)\n",
        "\n",
        "#HERE WE CAN SEND CAPTCHA MANUALLY BY SEEING THE GITHUB-PYTHON1 FILE\n",
        "elem2 = driver.find_element_by_id('form_rcdl:j_idt32:CaptchaID')\n",
        "elem2.clear()\n",
        "elem2.send_keys(captch)\n",
        "#elem2.send_keys(Keys.RETURN)\n",
        "\n",
        "elem3 = driver.find_element_by_id('form_rcdl:j_idt43')\n",
        "elem3.send_keys(Keys.ENTER)\n",
        "\n",
        "    # screenshot capture\n",
        "sleep(15)\n",
        "driver.get_screenshot_as_file(\"python-github.png\")\n",
        "x=str(driver.page_source)\n",
        "\n",
        "#name=driver.find_element_by_id('form_rcdl:j_idt124')\n",
        "\n",
        "#driver.close()"
      ],
      "execution_count": 199,
      "outputs": []
    },
    {
      "cell_type": "code",
      "metadata": {
        "id": "MvrXF5WoQZMP",
        "colab_type": "code",
        "colab": {}
      },
      "source": [
        "x=str(driver.page_source)\n",
        "driver.close()"
      ],
      "execution_count": 194,
      "outputs": []
    },
    {
      "cell_type": "code",
      "metadata": {
        "id": "BSRKoXr9Nc8-",
        "colab_type": "code",
        "colab": {}
      },
      "source": [
        "\n",
        "after = BeautifulSoup(x, \"html.parser\")"
      ],
      "execution_count": 170,
      "outputs": []
    },
    {
      "cell_type": "code",
      "metadata": {
        "id": "aN98tF9IU4GB",
        "colab_type": "code",
        "colab": {}
      },
      "source": [
        "a=after.find_all(\"td\")"
      ],
      "execution_count": 171,
      "outputs": []
    },
    {
      "cell_type": "code",
      "metadata": {
        "id": "T6okXK87VbwQ",
        "colab_type": "code",
        "colab": {}
      },
      "source": [
        "a[:23]\n",
        "res=[]\n",
        "#for i in range(0,23,2):\n",
        "  #print(a[i].text,':',a[i+1].text,'\\n')\n",
        "for i in range(0,10,2):\n",
        "  res.append(str(a[i].text)+' '+str(a[i+1].text)+'\\n')\n",
        "res.append(str(a[10].text)+' '+a[11].text+'\\n')\n",
        "res.append(str(a[10].text)+' '+a[12].text+'\\n')\n",
        "res.append(str(a[13].text)+a[14].text+'\\n')\n",
        "res.append(str(a[13].text)+a[15].text+'\\n')\n",
        "for i in range(16,23,2):\n",
        "  res.append(str(a[i].text)+' '+str(a[i+1].text)+'\\n')"
      ],
      "execution_count": 172,
      "outputs": []
    },
    {
      "cell_type": "code",
      "metadata": {
        "id": "6NldiniPPBYk",
        "colab_type": "code",
        "colab": {
          "base_uri": "https://localhost:8080/",
          "height": 228
        },
        "outputId": "f960f113-da30-426f-b42e-777d88652f6d"
      },
      "source": [
        "res"
      ],
      "execution_count": 173,
      "outputs": [
        {
          "output_type": "execute_result",
          "data": {
            "text/plain": [
              "['Current Status: ACTIVE\\n',\n",
              " \"Holder's Name: NAMRATA  DEVI\\n\",\n",
              " 'Date Of Issue: 18-Oct-2005\\n',\n",
              " 'Last Transaction At: RTO,BALASORE\\n',\n",
              " 'Old / New DL No.: 4748/BLS/05-06\\n',\n",
              " 'Non-Transport From: 18-Oct-2005\\n',\n",
              " 'Non-Transport To: 10-Mar-2023\\n',\n",
              " 'TransportFrom: NA\\n',\n",
              " 'TransportTo: NA\\n',\n",
              " 'Hazardous Valid Till: NA\\n',\n",
              " 'Hill Valid Till: NA\\n',\n",
              " 'NT MCWG\\n',\n",
              " '18-Oct-2005 NT\\n']"
            ]
          },
          "metadata": {
            "tags": []
          },
          "execution_count": 173
        }
      ]
    },
    {
      "cell_type": "code",
      "metadata": {
        "id": "o3JZ2TWLPBTD",
        "colab_type": "code",
        "colab": {}
      },
      "source": [
        "outF = open('/content/result.txt', 'w')\n",
        "outF.writelines(res)\n",
        "outF.close()"
      ],
      "execution_count": 174,
      "outputs": []
    },
    {
      "cell_type": "code",
      "metadata": {
        "id": "FA5V4H_6DjpJ",
        "colab_type": "code",
        "colab": {}
      },
      "source": [
        ""
      ],
      "execution_count": null,
      "outputs": []
    }
  ]
}